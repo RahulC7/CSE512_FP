{
 "cells": [
  {
   "cell_type": "code",
   "execution_count": 1,
   "id": "232b1181",
   "metadata": {},
   "outputs": [],
   "source": [
    "import ijson\n",
    "import json"
   ]
  },
  {
   "cell_type": "code",
   "execution_count": 2,
   "id": "425e2071",
   "metadata": {},
   "outputs": [],
   "source": [
    "# the original json expanded from the .7z file is missing a closing ] for it to be parsed by the json parser\n",
    "with open('dblpv13.json', 'rb') as infile, open('dblp.json', 'wb') as outfile:\n",
    "    string = infile.read().rstrip()\n",
    "    outfile.write(string)\n",
    "    outfile.write(b']\\n')"
   ]
  },
  {
   "cell_type": "code",
   "execution_count": 17,
   "id": "c1421ad3",
   "metadata": {},
   "outputs": [
    {
     "name": "stdout",
     "output_type": "stream",
     "text": [
      "1161982\n"
     ]
    }
   ],
   "source": [
    "with open('dblp.json', 'rb') as infile, open('dblp2010.json', 'wb') as outfile:\n",
    "    pubs = ijson.items(infile, 'item')\n",
    "    outfile.write(b'[')\n",
    "    count = 0\n",
    "    for pub in pubs:\n",
    "        if 'year' not in pub.keys() or 'authors' not in pub.keys():\n",
    "            continue\n",
    "        if 'n_citation' not in pub.keys() or int(pub['n_citation']) == 0:\n",
    "            continue\n",
    "        if 'keywords' not in pub.keys() or len(pub['keywords']) == 0:\n",
    "            continue\n",
    "        if 'url' not in pub.keys() or len(pub['url']) == 0:\n",
    "            continue\n",
    "        if int(pub['year']) >= 2010:\n",
    "            outfile.write(json.dumps(pub).encode('utf-8'))\n",
    "            outfile.write(b',\\n')\n",
    "            count += 1\n",
    "    outfile.seek(-2, 1)\n",
    "    outfile.write(b']\\n')\n",
    "    print(count)"
   ]
  },
  {
   "cell_type": "markdown",
   "id": "a59ef3fe",
   "metadata": {},
   "source": [
    "5354309 records total  \n",
    "4620772 records since 2000(2001)  \n",
    "3281786 records since 2010  \n",
    "1765168 records since 2010 with nonzero citations  \n",
    "1161982 records since 2010 with nonzero citations, urls, keywords  \n",
    "1145118 records since 2010 with nonzero citations, urls, keywords, fields of study  "
   ]
  },
  {
   "cell_type": "code",
   "execution_count": 15,
   "id": "bdb2d65f",
   "metadata": {},
   "outputs": [
    {
     "output_type": "stream",
     "name": "stdout",
     "text": [
      "747165\n94292\n397953\n"
     ]
    }
   ],
   "source": [
    "with open('dblp2010.json', 'rb') as infile,\\\n",
    "    open('dblp2010_p2a.json', 'wb') as p2aout,\\\n",
    "    open('dblp2010_a2p.json', 'wb') as a2pout:\n",
    "\n",
    "    pubs = ijson.items(infile, 'item')\n",
    "    p2aout.write(b'[')\n",
    "    a2pout.write(b'[')\n",
    "    a2p = {}\n",
    "    count = 0\n",
    "    noid_auth_count = 0\n",
    "    noid_venue_count = 0\n",
    "    for pub in pubs:\n",
    "        if 'venue' not in pub.keys():\n",
    "            continue\n",
    "        if 'fos' not in pub.keys() or len(pub['fos']) == 0:\n",
    "            continue\n",
    "\n",
    "        new_pub = {}\n",
    "        new_pub['_id'] = pub['_id']\n",
    "        new_pub['title'] = pub['title']\n",
    "        new_pub['authors'] = []\n",
    "        should_write = True\n",
    "        for author in pub['authors']:\n",
    "            if '_id' not in author or 'name' not in author:\n",
    "                continue\n",
    "            # if author['name'] == 'Jeffrey Heer':\n",
    "            #     should_write = True\n",
    "            new_pub['authors'].append({'_id':author['_id'],'name':author['name']})\n",
    "        new_pub['year'] = pub['year']\n",
    "        if '_id' not in pub['venue']:\n",
    "            noid_venue_count += 1\n",
    "            continue\n",
    "        venue_name = ''\n",
    "        if 'raw' not in pub['venue']:\n",
    "            if 'name' not in pub['venue']:\n",
    "                if 'name_d' not in pub['venue']:\n",
    "                    venue_name = 'N/A'\n",
    "                else:\n",
    "                    venue_name = pub['venue']['name_d']\n",
    "            else:\n",
    "                venue_name = pub['venue']['name']\n",
    "        else:\n",
    "            venue_name = pub['venue']['raw']\n",
    "        new_pub['venue'] = {'_id':pub['venue']['_id'],'name':venue_name}\n",
    "        new_pub['keywords'] = pub['keywords']\n",
    "        new_pub['fos'] = pub['fos']\n",
    "        new_pub['n_citation'] = pub['n_citation']\n",
    "        new_pub['url'] = pub['url'][0]\n",
    "        if should_write:\n",
    "            p2aout.write(json.dumps(new_pub).encode('utf-8'))\n",
    "            p2aout.write(b',\\n')\n",
    "            count += 1\n",
    "        else:\n",
    "            continue\n",
    "\n",
    "        for author in pub['authors']:\n",
    "            if '_id' not in author.keys():\n",
    "                noid_auth_count += 1\n",
    "                continue\n",
    "            if 'name' not in author:\n",
    "                continue\n",
    "            if author['_id'] not in a2p:\n",
    "                a2p[author['_id']] = {'name':author['name'], 'papers':[]}\n",
    "            a2p[author['_id']]['papers'].append(pub['_id'])\n",
    "            a2p[author['_id']]['email'] = author['email'] if 'email' in author else ''\n",
    "            if 'org' in author:\n",
    "                a2p[author['_id']]['org'] = author['org']\n",
    "            elif 'orgs' in author and len(author['orgs']) > 0:\n",
    "                a2p[author['_id']]['org'] = author['orgs'][0]\n",
    "\n",
    "    p2aout.seek(-2, 1)\n",
    "    p2aout.write(b']\\n')\n",
    "    \n",
    "    for key, value in a2p.items():\n",
    "        a2pout.write(json.dumps({key: value}).encode('utf-8'))\n",
    "        a2pout.write(b',\\n')\n",
    "    a2pout.seek(-2, 1)\n",
    "    a2pout.write(b']\\n')\n",
    "\n",
    "    print(count)\n",
    "    print(noid_auth_count)\n",
    "    print(noid_venue_count)"
   ]
  },
  {
   "cell_type": "code",
   "execution_count": 46,
   "id": "49af1046",
   "metadata": {},
   "outputs": [],
   "source": [
    "with open('dblp2010_a2p.json', 'wb') as a2pout:\n",
    "    a2pout.write(b'[')\n",
    "    for key, value in a2p.items():\n",
    "        a2pout.write(json.dumps({key: value}).encode('utf-8'))\n",
    "        a2pout.write(b',\\n')\n",
    "    a2pout.seek(-2, 1)\n",
    "    a2pout.write(b']\\n')"
   ]
  },
  {
   "cell_type": "markdown",
   "id": "e1f383ce",
   "metadata": {},
   "source": [
    "357769 authors no author id (got filtered away)  \n",
    "397953 venue no id  \n",
    "747165 left with all the data we need for the vis"
   ]
  },
  {
   "cell_type": "code",
   "execution_count": 16,
   "id": "3d18f732",
   "metadata": {},
   "outputs": [],
   "source": [
    "with open('dblp2010_a2p.json', 'rb') as a2pin, open('dblp2010_a2p2.json', 'wb') as a2pout:\n",
    "    a2pout.write(b'[')\n",
    "    a2p = json.load(a2pin)\n",
    "    for entry in a2p:\n",
    "        for key in entry.keys():\n",
    "            newentry = {\"_id\" : key}\n",
    "            newentry.update(entry[key])\n",
    "            a2pout.write(json.dumps(newentry).encode('utf-8'))\n",
    "            a2pout.write(b',\\n')\n",
    "    a2pout.seek(-2, 1)\n",
    "    a2pout.write(b']\\n')"
   ]
  }
 ],
 "metadata": {
  "kernelspec": {
   "name": "python394jvsc74a57bd0aee8b7b246df8f9039afb4144a1f6fd8d2ca17a180786b69acc140d282b71a49",
   "display_name": "Python 3.9.4 64-bit"
  },
  "language_info": {
   "codemirror_mode": {
    "name": "ipython",
    "version": 3
   },
   "file_extension": ".py",
   "mimetype": "text/x-python",
   "name": "python",
   "nbconvert_exporter": "python",
   "pygments_lexer": "ipython3",
   "version": "3.9.4"
  }
 },
 "nbformat": 4,
 "nbformat_minor": 5
}